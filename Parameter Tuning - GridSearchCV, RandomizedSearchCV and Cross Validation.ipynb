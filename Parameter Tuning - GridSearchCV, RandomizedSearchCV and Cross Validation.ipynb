{
 "cells": [
  {
   "cell_type": "markdown",
   "metadata": {},
   "source": [
    "Trying simple KFold"
   ]
  },
  {
   "cell_type": "code",
   "execution_count": 7,
   "metadata": {},
   "outputs": [
    {
     "name": "stdout",
     "output_type": "stream",
     "text": [
      "Iteration Training set observations Testing set observations\n",
      "1 [ 5  6  7  8  9 10 11 12 13 14 15 16 17 18 19 20 21 22 23 24] [0 1 2 3 4]\n",
      "2 [ 0  1  2  3  4 10 11 12 13 14 15 16 17 18 19 20 21 22 23 24] [5 6 7 8 9]\n",
      "3 [ 0  1  2  3  4  5  6  7  8  9 15 16 17 18 19 20 21 22 23 24] [10 11 12 13 14]\n",
      "4 [ 0  1  2  3  4  5  6  7  8  9 10 11 12 13 14 20 21 22 23 24] [15 16 17 18 19]\n",
      "5 [ 0  1  2  3  4  5  6  7  8  9 10 11 12 13 14 15 16 17 18 19] [20 21 22 23 24]\n"
     ]
    }
   ],
   "source": [
    "from sklearn.cross_validation import KFold\n",
    "kf = KFold(25, n_folds = 5, shuffle = False)\n",
    "\n",
    "# printing the contents of the training and test dataset\n",
    "#print ('{} {:^61} {}').format('Iteration', 'Training set observations', 'Testing set observations')\n",
    "print ('Iteration', 'Training set observations', 'Testing set observations')\n",
    "for iteration, data in enumerate(kf, start = 1):\n",
    "    print (iteration, data[0], data[1])"
   ]
  },
  {
   "cell_type": "markdown",
   "metadata": {},
   "source": [
    "### Cross - Validation : Parameter Tuning"
   ]
  },
  {
   "cell_type": "code",
   "execution_count": 8,
   "metadata": {
    "collapsed": true
   },
   "outputs": [],
   "source": [
    "# importing dataset\n",
    "from sklearn.datasets import load_iris\n",
    "iris = load_iris()\n",
    "\n",
    "# preparing training and test dataset\n",
    "x = iris.data\n",
    "y = iris.target\n",
    "\n",
    "from sklearn.neighbors import KNeighborsClassifier\n",
    "\n",
    "# value of k = 5\n",
    "knn = KNeighborsClassifier(n_neighbors = 5)\n",
    "\n",
    "from sklearn.cross_validation import cross_val_score"
   ]
  },
  {
   "cell_type": "code",
   "execution_count": 9,
   "metadata": {},
   "outputs": [
    {
     "name": "stdout",
     "output_type": "stream",
     "text": [
      "[ 1.          0.93333333  1.          1.          0.86666667  0.93333333\n",
      "  0.93333333  1.          1.          1.        ]\n"
     ]
    }
   ],
   "source": [
    "# using 10-fold cross validation with K=5 in KNN\n",
    "scores = cross_val_score(knn, x, y, cv = 10, scoring = 'accuracy')\n",
    "print (scores)"
   ]
  },
  {
   "cell_type": "code",
   "execution_count": 10,
   "metadata": {},
   "outputs": [
    {
     "name": "stdout",
     "output_type": "stream",
     "text": [
      "0.966666666667\n"
     ]
    }
   ],
   "source": [
    "print(scores.mean())"
   ]
  },
  {
   "cell_type": "code",
   "execution_count": 11,
   "metadata": {},
   "outputs": [
    {
     "name": "stdout",
     "output_type": "stream",
     "text": [
      "[0.95999999999999996, 0.95333333333333337, 0.96666666666666656, 0.96666666666666656, 0.96666666666666679, 0.96666666666666679, 0.96666666666666679, 0.96666666666666679, 0.97333333333333338, 0.96666666666666679, 0.96666666666666679, 0.97333333333333338, 0.98000000000000009, 0.97333333333333338, 0.97333333333333338, 0.97333333333333338, 0.97333333333333338, 0.98000000000000009, 0.97333333333333338, 0.98000000000000009, 0.96666666666666656, 0.96666666666666656, 0.97333333333333338, 0.95999999999999996, 0.96666666666666656, 0.95999999999999996, 0.96666666666666656, 0.95333333333333337, 0.95333333333333337, 0.95333333333333337]\n"
     ]
    }
   ],
   "source": [
    "# find best value for k\n",
    "k_scores = []\n",
    "k_range = range(1,31)\n",
    "for k in k_range:\n",
    "    knn = KNeighborsClassifier(n_neighbors = k)\n",
    "    scores = cross_val_score(knn, x, y, cv = 10, scoring = 'accuracy')\n",
    "    k_scores.append(scores.mean())\n",
    "print(k_scores)"
   ]
  },
  {
   "cell_type": "code",
   "execution_count": 12,
   "metadata": {},
   "outputs": [
    {
     "data": {
      "text/plain": [
       "Text(0,0.5,'Accuracy Score')"
      ]
     },
     "execution_count": 12,
     "metadata": {},
     "output_type": "execute_result"
    },
    {
     "data": {
      "image/png": "[encoded data removed]",
      "text/plain": [
       "<matplotlib.figure.Figure at 0x1a253d463c8>"
      ]
     },
     "metadata": {},
     "output_type": "display_data"
    }
   ],
   "source": [
    "import matplotlib.pyplot as plt\n",
    "%matplotlib inline\n",
    "\n",
    "plt.plot(k_range, k_scores)\n",
    "plt.xlabel('Value of k in KNN')\n",
    "plt.ylabel('Accuracy Score')"
   ]
  },
  {
   "cell_type": "markdown",
   "metadata": {},
   "source": [
    "### Comparing cross validation model between KNN and Logistic Regression"
   ]
  },
  {
   "cell_type": "code",
   "execution_count": 13,
   "metadata": {},
   "outputs": [
    {
     "name": "stdout",
     "output_type": "stream",
     "text": [
      "0.953333333333\n"
     ]
    }
   ],
   "source": [
    "from sklearn.linear_model import LogisticRegression\n",
    "logreg = LogisticRegression()\n",
    "print (cross_val_score(logreg, x, y, cv= 10, scoring = 'accuracy').mean())"
   ]
  },
  {
   "cell_type": "code",
   "execution_count": 14,
   "metadata": {},
   "outputs": [
    {
     "name": "stdout",
     "output_type": "stream",
     "text": [
      "0.98\n"
     ]
    }
   ],
   "source": [
    "knn = KNeighborsClassifier(n_neighbors = 20)\n",
    "print (cross_val_score(knn, x, y, cv = 10, scoring = 'accuracy').mean())"
   ]
  },
  {
   "cell_type": "markdown",
   "metadata": {},
   "source": [
    "### Feature Selection using Cross Validation"
   ]
  },
  {
   "cell_type": "code",
   "execution_count": 16,
   "metadata": {},
   "outputs": [
    {
     "name": "stdout",
     "output_type": "stream",
     "text": [
      "[-3.56038438 -3.29767522 -2.08943356 -2.82474283 -1.3027754  -1.74163618\n",
      " -8.17338214 -2.11409746 -3.04273109 -2.45281793]\n"
     ]
    }
   ],
   "source": [
    "import numpy as np\n",
    "import pandas as pd\n",
    "\n",
    "# want to remove the first column from above dataset\n",
    "data = pd.read_csv('http://www-bcf.usc.edu/~gareth/ISL/Advertising.csv', index_col = 0)\n",
    "\n",
    "feature_cols = ['TV', 'radio', 'newspaper']\n",
    "X = data[feature_cols]\n",
    "y = data['sales']\n",
    "\n",
    "from sklearn.linear_model import LinearRegression\n",
    "lm = LinearRegression()\n",
    "scores = cross_val_score(lm, X, y, cv = 10, scoring = 'neg_mean_squared_error')\n",
    "print (scores)"
   ]
  },
  {
   "cell_type": "code",
   "execution_count": 17,
   "metadata": {},
   "outputs": [
    {
     "name": "stdout",
     "output_type": "stream",
     "text": [
      "[ 3.56038438  3.29767522  2.08943356  2.82474283  1.3027754   1.74163618\n",
      "  8.17338214  2.11409746  3.04273109  2.45281793]\n"
     ]
    }
   ],
   "source": [
    "mse_scores = -scores\n",
    "print (mse_scores)"
   ]
  },
  {
   "cell_type": "code",
   "execution_count": 18,
   "metadata": {},
   "outputs": [
    {
     "name": "stdout",
     "output_type": "stream",
     "text": [
      "[ 1.88689808  1.81595022  1.44548731  1.68069713  1.14139187  1.31971064\n",
      "  2.85891276  1.45399362  1.7443426   1.56614748]\n"
     ]
    }
   ],
   "source": [
    "# find RMSE\n",
    "rmse_scores = np.sqrt(mse_scores)\n",
    "print(rmse_scores)"
   ]
  },
  {
   "cell_type": "code",
   "execution_count": 20,
   "metadata": {},
   "outputs": [
    {
     "name": "stdout",
     "output_type": "stream",
     "text": [
      "1.69135317081\n"
     ]
    }
   ],
   "source": [
    "# calculating the average RMSE\n",
    "print (rmse_scores.mean())"
   ]
  },
  {
   "cell_type": "markdown",
   "metadata": {},
   "source": [
    "10 fold cross validation excluding the Newspaper column"
   ]
  },
  {
   "cell_type": "code",
   "execution_count": 21,
   "metadata": {},
   "outputs": [
    {
     "name": "stdout",
     "output_type": "stream",
     "text": [
      "1.67967484191\n"
     ]
    }
   ],
   "source": [
    "feature_cols = ['TV', 'radio']\n",
    "X = data[feature_cols]\n",
    "print (np.sqrt(-cross_val_score(lm, X, y, cv = 10, scoring = 'neg_mean_squared_error')).mean())"
   ]
  },
  {
   "cell_type": "markdown",
   "metadata": {},
   "source": [
    "### GridSearchCV for efficient parameter tuning"
   ]
  },
  {
   "cell_type": "code",
   "execution_count": 23,
   "metadata": {},
   "outputs": [
    {
     "name": "stdout",
     "output_type": "stream",
     "text": [
      "range(1, 31)\n"
     ]
    }
   ],
   "source": [
    "from sklearn.model_selection import GridSearchCV\n",
    "\n",
    "k_range = range(1, 31)\n",
    "print (k_range)"
   ]
  },
  {
   "cell_type": "code",
   "execution_count": 24,
   "metadata": {},
   "outputs": [
    {
     "name": "stdout",
     "output_type": "stream",
     "text": [
      "{'n_neighbors': range(1, 31)}\n"
     ]
    }
   ],
   "source": [
    "param_grid = dict(n_neighbors = k_range)\n",
    "print(param_grid)"
   ]
  },
  {
   "cell_type": "code",
   "execution_count": 25,
   "metadata": {
    "collapsed": true
   },
   "outputs": [],
   "source": [
    "grid = GridSearchCV(knn, param_grid, cv=10, scoring = 'accuracy')"
   ]
  },
  {
   "cell_type": "code",
   "execution_count": 27,
   "metadata": {},
   "outputs": [
    {
     "data": {
      "text/plain": [
       "GridSearchCV(cv=10, error_score='raise',\n",
       "       estimator=KNeighborsClassifier(algorithm='auto', leaf_size=30, metric='minkowski',\n",
       "           metric_params=None, n_jobs=1, n_neighbors=20, p=2,\n",
       "           weights='uniform'),\n",
       "       fit_params=None, iid=True, n_jobs=1,\n",
       "       param_grid={'n_neighbors': range(1, 31)}, pre_dispatch='2*n_jobs',\n",
       "       refit=True, return_train_score='warn', scoring='accuracy',\n",
       "       verbose=0)"
      ]
     },
     "execution_count": 27,
     "metadata": {},
     "output_type": "execute_result"
    }
   ],
   "source": [
    "x = iris.data\n",
    "y = iris.target\n",
    "grid.fit(x,y)"
   ]
  },
  {
   "cell_type": "code",
   "execution_count": 29,
   "metadata": {},
   "outputs": [
    {
     "name": "stderr",
     "output_type": "stream",
     "text": [
      "C:\\Users\\Lenovo\\Anaconda3\\lib\\site-packages\\sklearn\\model_selection\\_search.py:761: DeprecationWarning: The grid_scores_ attribute was deprecated in version 0.18 in favor of the more elaborate cv_results_ attribute. The grid_scores_ attribute will not be available from 0.20\n",
      "  DeprecationWarning)\n"
     ]
    },
    {
     "data": {
      "text/plain": [
       "[mean: 0.96000, std: 0.05333, params: {'n_neighbors': 1},\n",
       " mean: 0.95333, std: 0.05207, params: {'n_neighbors': 2},\n",
       " mean: 0.96667, std: 0.04472, params: {'n_neighbors': 3},\n",
       " mean: 0.96667, std: 0.04472, params: {'n_neighbors': 4},\n",
       " mean: 0.96667, std: 0.04472, params: {'n_neighbors': 5},\n",
       " mean: 0.96667, std: 0.04472, params: {'n_neighbors': 6},\n",
       " mean: 0.96667, std: 0.04472, params: {'n_neighbors': 7},\n",
       " mean: 0.96667, std: 0.04472, params: {'n_neighbors': 8},\n",
       " mean: 0.97333, std: 0.03266, params: {'n_neighbors': 9},\n",
       " mean: 0.96667, std: 0.04472, params: {'n_neighbors': 10},\n",
       " mean: 0.96667, std: 0.04472, params: {'n_neighbors': 11},\n",
       " mean: 0.97333, std: 0.03266, params: {'n_neighbors': 12},\n",
       " mean: 0.98000, std: 0.03055, params: {'n_neighbors': 13},\n",
       " mean: 0.97333, std: 0.04422, params: {'n_neighbors': 14},\n",
       " mean: 0.97333, std: 0.03266, params: {'n_neighbors': 15},\n",
       " mean: 0.97333, std: 0.03266, params: {'n_neighbors': 16},\n",
       " mean: 0.97333, std: 0.03266, params: {'n_neighbors': 17},\n",
       " mean: 0.98000, std: 0.03055, params: {'n_neighbors': 18},\n",
       " mean: 0.97333, std: 0.03266, params: {'n_neighbors': 19},\n",
       " mean: 0.98000, std: 0.03055, params: {'n_neighbors': 20},\n",
       " mean: 0.96667, std: 0.03333, params: {'n_neighbors': 21},\n",
       " mean: 0.96667, std: 0.03333, params: {'n_neighbors': 22},\n",
       " mean: 0.97333, std: 0.03266, params: {'n_neighbors': 23},\n",
       " mean: 0.96000, std: 0.04422, params: {'n_neighbors': 24},\n",
       " mean: 0.96667, std: 0.03333, params: {'n_neighbors': 25},\n",
       " mean: 0.96000, std: 0.04422, params: {'n_neighbors': 26},\n",
       " mean: 0.96667, std: 0.04472, params: {'n_neighbors': 27},\n",
       " mean: 0.95333, std: 0.04269, params: {'n_neighbors': 28},\n",
       " mean: 0.95333, std: 0.04269, params: {'n_neighbors': 29},\n",
       " mean: 0.95333, std: 0.04269, params: {'n_neighbors': 30}]"
      ]
     },
     "execution_count": 29,
     "metadata": {},
     "output_type": "execute_result"
    }
   ],
   "source": [
    "grid.grid_scores_"
   ]
  },
  {
   "cell_type": "code",
   "execution_count": 31,
   "metadata": {},
   "outputs": [
    {
     "name": "stdout",
     "output_type": "stream",
     "text": [
      "{'n_neighbors': 1}\n",
      "[ 1.          0.93333333  1.          0.93333333  0.86666667  1.\n",
      "  0.86666667  1.          1.          1.        ]\n",
      "0.96\n"
     ]
    },
    {
     "name": "stderr",
     "output_type": "stream",
     "text": [
      "C:\\Users\\Lenovo\\Anaconda3\\lib\\site-packages\\sklearn\\model_selection\\_search.py:761: DeprecationWarning: The grid_scores_ attribute was deprecated in version 0.18 in favor of the more elaborate cv_results_ attribute. The grid_scores_ attribute will not be available from 0.20\n",
      "  DeprecationWarning)\n",
      "C:\\Users\\Lenovo\\Anaconda3\\lib\\site-packages\\sklearn\\model_selection\\_search.py:761: DeprecationWarning: The grid_scores_ attribute was deprecated in version 0.18 in favor of the more elaborate cv_results_ attribute. The grid_scores_ attribute will not be available from 0.20\n",
      "  DeprecationWarning)\n",
      "C:\\Users\\Lenovo\\Anaconda3\\lib\\site-packages\\sklearn\\model_selection\\_search.py:761: DeprecationWarning: The grid_scores_ attribute was deprecated in version 0.18 in favor of the more elaborate cv_results_ attribute. The grid_scores_ attribute will not be available from 0.20\n",
      "  DeprecationWarning)\n"
     ]
    }
   ],
   "source": [
    "print(grid.grid_scores_[0].parameters)\n",
    "print(grid.grid_scores_[0].cv_validation_scores)\n",
    "print(grid.grid_scores_[0].mean_validation_score)"
   ]
  },
  {
   "cell_type": "code",
   "execution_count": 34,
   "metadata": {},
   "outputs": [
    {
     "name": "stdout",
     "output_type": "stream",
     "text": [
      "{'mean_fit_time': array([ 0.00120008,  0.00120168,  0.        ,  0.0003948 ,  0.        ,\n",
      "        0.00039618,  0.        ,  0.        ,  0.        ,  0.        ,\n",
      "        0.00039978,  0.        ,  0.        ,  0.        ,  0.        ,\n",
      "        0.        ,  0.00080364,  0.        ,  0.00039985,  0.00040565,\n",
      "        0.00079505,  0.00040338,  0.00040002,  0.0004035 ,  0.        ,\n",
      "        0.00040498,  0.00040002,  0.00039992,  0.00039992,  0.00040004]), 'std_fit_time': array([ 0.00183322,  0.00183565,  0.        ,  0.00118439,  0.        ,\n",
      "        0.00118854,  0.        ,  0.        ,  0.        ,  0.        ,\n",
      "        0.00119934,  0.        ,  0.        ,  0.        ,  0.        ,\n",
      "        0.        ,  0.0016073 ,  0.        ,  0.00119956,  0.00121694,\n",
      "        0.00159015,  0.00121014,  0.00120006,  0.0012105 ,  0.        ,\n",
      "        0.00121493,  0.00120006,  0.00119977,  0.00119977,  0.00120013]), 'mean_score_time': array([ 0.00079997,  0.00039978,  0.0008054 ,  0.00080032,  0.00079978,\n",
      "        0.        ,  0.00039999,  0.        ,  0.0012033 ,  0.        ,\n",
      "        0.        ,  0.        ,  0.00159993,  0.00199997,  0.        ,\n",
      "        0.00120003,  0.00080001,  0.00079618,  0.00079978,  0.00079999,\n",
      "        0.00039997,  0.00039999,  0.00039604,  0.00039997,  0.00080366,\n",
      "        0.0012002 ,  0.00040014,  0.00079627,  0.00040002,  0.00079997]), 'std_score_time': array([ 0.00159993,  0.00119934,  0.00161085,  0.00160081,  0.00159955,\n",
      "        0.        ,  0.00119998,  0.        ,  0.0018381 ,  0.        ,\n",
      "        0.        ,  0.        ,  0.00195957,  0.00200004,  0.        ,\n",
      "        0.00183315,  0.00160003,  0.00159237,  0.00159955,  0.00159998,\n",
      "        0.00119991,  0.00119998,  0.00118811,  0.00119991,  0.00160734,\n",
      "        0.00183333,  0.00120041,  0.00159256,  0.00120006,  0.00159993]), 'param_n_neighbors': masked_array(data = [1 2 3 4 5 6 7 8 9 10 11 12 13 14 15 16 17 18 19 20 21 22 23 24 25 26 27 28\n",
      " 29 30],\n",
      "             mask = [False False False False False False False False False False False False\n",
      " False False False False False False False False False False False False\n",
      " False False False False False False],\n",
      "       fill_value = ?)\n",
      ", 'params': [{'n_neighbors': 1}, {'n_neighbors': 2}, {'n_neighbors': 3}, {'n_neighbors': 4}, {'n_neighbors': 5}, {'n_neighbors': 6}, {'n_neighbors': 7}, {'n_neighbors': 8}, {'n_neighbors': 9}, {'n_neighbors': 10}, {'n_neighbors': 11}, {'n_neighbors': 12}, {'n_neighbors': 13}, {'n_neighbors': 14}, {'n_neighbors': 15}, {'n_neighbors': 16}, {'n_neighbors': 17}, {'n_neighbors': 18}, {'n_neighbors': 19}, {'n_neighbors': 20}, {'n_neighbors': 21}, {'n_neighbors': 22}, {'n_neighbors': 23}, {'n_neighbors': 24}, {'n_neighbors': 25}, {'n_neighbors': 26}, {'n_neighbors': 27}, {'n_neighbors': 28}, {'n_neighbors': 29}, {'n_neighbors': 30}], 'split0_test_score': array([ 1.        ,  1.        ,  1.        ,  1.        ,  1.        ,\n",
      "        1.        ,  1.        ,  1.        ,  1.        ,  1.        ,\n",
      "        1.        ,  1.        ,  1.        ,  1.        ,  0.93333333,\n",
      "        1.        ,  0.93333333,  1.        ,  0.93333333,  1.        ,\n",
      "        0.93333333,  0.93333333,  0.93333333,  0.93333333,  0.93333333,\n",
      "        0.93333333,  0.93333333,  0.93333333,  0.93333333,  0.93333333]), 'split1_test_score': array([ 0.93333333,  0.93333333,  0.93333333,  0.93333333,  0.93333333,\n",
      "        0.93333333,  0.93333333,  0.93333333,  0.93333333,  0.93333333,\n",
      "        0.93333333,  0.93333333,  0.93333333,  0.93333333,  0.93333333,\n",
      "        0.93333333,  0.93333333,  0.93333333,  0.93333333,  0.93333333,\n",
      "        0.93333333,  0.93333333,  0.93333333,  0.93333333,  0.93333333,\n",
      "        0.93333333,  0.93333333,  0.93333333,  0.93333333,  0.93333333]), 'split2_test_score': array([ 1.,  1.,  1.,  1.,  1.,  1.,  1.,  1.,  1.,  1.,  1.,  1.,  1.,\n",
      "        1.,  1.,  1.,  1.,  1.,  1.,  1.,  1.,  1.,  1.,  1.,  1.,  1.,\n",
      "        1.,  1.,  1.,  1.]), 'split3_test_score': array([ 0.93333333,  0.93333333,  0.93333333,  0.93333333,  1.        ,\n",
      "        1.        ,  1.        ,  1.        ,  1.        ,  1.        ,\n",
      "        1.        ,  1.        ,  1.        ,  1.        ,  1.        ,\n",
      "        1.        ,  1.        ,  1.        ,  1.        ,  1.        ,\n",
      "        1.        ,  1.        ,  1.        ,  1.        ,  1.        ,\n",
      "        1.        ,  1.        ,  0.93333333,  0.93333333,  0.93333333]), 'split4_test_score': array([ 0.86666667,  0.86666667,  0.86666667,  0.86666667,  0.86666667,\n",
      "        0.86666667,  0.86666667,  1.        ,  1.        ,  1.        ,\n",
      "        1.        ,  1.        ,  1.        ,  1.        ,  1.        ,\n",
      "        1.        ,  1.        ,  1.        ,  1.        ,  1.        ,\n",
      "        0.93333333,  1.        ,  1.        ,  1.        ,  1.        ,\n",
      "        1.        ,  1.        ,  1.        ,  1.        ,  1.        ]), 'split5_test_score': array([ 1.        ,  1.        ,  1.        ,  1.        ,  0.93333333,\n",
      "        0.93333333,  0.93333333,  0.86666667,  0.93333333,  0.86666667,\n",
      "        0.86666667,  0.93333333,  0.93333333,  0.86666667,  0.93333333,\n",
      "        0.93333333,  0.93333333,  0.93333333,  0.93333333,  0.93333333,\n",
      "        0.93333333,  0.93333333,  0.93333333,  0.86666667,  0.93333333,\n",
      "        0.86666667,  0.86666667,  0.86666667,  0.86666667,  0.86666667]), 'split6_test_score': array([ 0.86666667,  0.86666667,  0.93333333,  0.93333333,  0.93333333,\n",
      "        0.93333333,  0.93333333,  0.93333333,  0.93333333,  0.93333333,\n",
      "        0.93333333,  0.93333333,  0.93333333,  0.93333333,  0.93333333,\n",
      "        0.93333333,  0.93333333,  0.93333333,  0.93333333,  0.93333333,\n",
      "        0.93333333,  0.93333333,  0.93333333,  0.93333333,  0.93333333,\n",
      "        0.93333333,  0.93333333,  0.93333333,  0.93333333,  0.93333333]), 'split7_test_score': array([ 1.        ,  0.93333333,  1.        ,  1.        ,  1.        ,\n",
      "        1.        ,  1.        ,  0.93333333,  0.93333333,  0.93333333,\n",
      "        0.93333333,  0.93333333,  1.        ,  1.        ,  1.        ,\n",
      "        0.93333333,  1.        ,  1.        ,  1.        ,  1.        ,\n",
      "        1.        ,  0.93333333,  1.        ,  0.93333333,  0.93333333,\n",
      "        0.93333333,  1.        ,  0.93333333,  0.93333333,  0.93333333]), 'split8_test_score': array([ 1.,  1.,  1.,  1.,  1.,  1.,  1.,  1.,  1.,  1.,  1.,  1.,  1.,\n",
      "        1.,  1.,  1.,  1.,  1.,  1.,  1.,  1.,  1.,  1.,  1.,  1.,  1.,\n",
      "        1.,  1.,  1.,  1.]), 'split9_test_score': array([ 1.,  1.,  1.,  1.,  1.,  1.,  1.,  1.,  1.,  1.,  1.,  1.,  1.,\n",
      "        1.,  1.,  1.,  1.,  1.,  1.,  1.,  1.,  1.,  1.,  1.,  1.,  1.,\n",
      "        1.,  1.,  1.,  1.]), 'mean_test_score': array([ 0.96      ,  0.95333333,  0.96666667,  0.96666667,  0.96666667,\n",
      "        0.96666667,  0.96666667,  0.96666667,  0.97333333,  0.96666667,\n",
      "        0.96666667,  0.97333333,  0.98      ,  0.97333333,  0.97333333,\n",
      "        0.97333333,  0.97333333,  0.98      ,  0.97333333,  0.98      ,\n",
      "        0.96666667,  0.96666667,  0.97333333,  0.96      ,  0.96666667,\n",
      "        0.96      ,  0.96666667,  0.95333333,  0.95333333,  0.95333333]), 'std_test_score': array([ 0.05333333,  0.05206833,  0.04472136,  0.04472136,  0.04472136,\n",
      "        0.04472136,  0.04472136,  0.04472136,  0.03265986,  0.04472136,\n",
      "        0.04472136,  0.03265986,  0.0305505 ,  0.04422166,  0.03265986,\n",
      "        0.03265986,  0.03265986,  0.0305505 ,  0.03265986,  0.0305505 ,\n",
      "        0.03333333,  0.03333333,  0.03265986,  0.04422166,  0.03333333,\n",
      "        0.04422166,  0.04472136,  0.04268749,  0.04268749,  0.04268749]), 'rank_test_score': array([24, 27, 12, 12, 12, 12, 12, 12,  4, 12, 12,  4,  1,  4,  4,  4,  4,\n",
      "        1,  4,  1, 12, 12,  4, 24, 12, 24, 12, 27, 27, 27]), 'split0_train_score': array([ 1.        ,  0.97037037,  0.95555556,  0.95555556,  0.96296296,\n",
      "        0.97037037,  0.96296296,  0.97037037,  0.97037037,  0.97037037,\n",
      "        0.97037037,  0.97037037,  0.97777778,  0.97037037,  0.97777778,\n",
      "        0.97037037,  0.97777778,  0.97777778,  0.97777778,  0.97777778,\n",
      "        0.97777778,  0.97777778,  0.97777778,  0.97037037,  0.97777778,\n",
      "        0.96296296,  0.96296296,  0.94814815,  0.95555556,  0.94814815]), 'split1_train_score': array([ 1.        ,  0.98518519,  0.96296296,  0.96296296,  0.97037037,\n",
      "        0.97037037,  0.97777778,  0.98518519,  0.98518519,  0.98518519,\n",
      "        0.98518519,  0.99259259,  0.97777778,  0.97777778,  0.97777778,\n",
      "        0.98518519,  0.98518519,  0.98518519,  0.98518519,  0.98518519,\n",
      "        0.98518519,  0.98518519,  0.97037037,  0.97777778,  0.97777778,\n",
      "        0.98518519,  0.97777778,  0.97777778,  0.97777778,  0.95555556]), 'split2_train_score': array([ 1.        ,  0.97777778,  0.95555556,  0.95555556,  0.96296296,\n",
      "        0.97037037,  0.97037037,  0.97777778,  0.97777778,  0.97777778,\n",
      "        0.98518519,  0.98518519,  0.97777778,  0.98518519,  0.97777778,\n",
      "        0.98518519,  0.97777778,  0.97777778,  0.97777778,  0.96296296,\n",
      "        0.97037037,  0.95555556,  0.96296296,  0.94814815,  0.94814815,\n",
      "        0.93333333,  0.94074074,  0.94814815,  0.95555556,  0.94814815]), 'split3_train_score': array([ 1.        ,  0.98518519,  0.96296296,  0.96296296,  0.97037037,\n",
      "        0.97777778,  0.97037037,  0.98518519,  0.98518519,  0.97777778,\n",
      "        0.97777778,  0.97777778,  0.97777778,  0.97777778,  0.97777778,\n",
      "        0.98518519,  0.97777778,  0.97777778,  0.97777778,  0.97777778,\n",
      "        0.97777778,  0.97777778,  0.97777778,  0.97777778,  0.97037037,\n",
      "        0.96296296,  0.97037037,  0.96296296,  0.97037037,  0.94814815]), 'split4_train_score': array([ 1.        ,  0.97777778,  0.97777778,  0.97777778,  0.98518519,\n",
      "        0.98518519,  0.98518519,  0.97777778,  0.97777778,  0.97777778,\n",
      "        0.98518519,  0.97777778,  0.98518519,  0.97777778,  0.97777778,\n",
      "        0.97777778,  0.97777778,  0.97777778,  0.97777778,  0.97777778,\n",
      "        0.97777778,  0.97037037,  0.97777778,  0.97037037,  0.97037037,\n",
      "        0.95555556,  0.94814815,  0.94814815,  0.94814815,  0.94814815]), 'split5_train_score': array([ 1.        ,  0.97037037,  0.95555556,  0.96296296,  0.96296296,\n",
      "        0.95555556,  0.97037037,  0.97037037,  0.97777778,  0.97037037,\n",
      "        0.98518519,  0.97777778,  0.98518519,  0.97777778,  0.97777778,\n",
      "        0.97777778,  0.98518519,  0.98518519,  0.97777778,  0.97777778,\n",
      "        0.97777778,  0.97777778,  0.97777778,  0.97777778,  0.97777778,\n",
      "        0.96296296,  0.97037037,  0.96296296,  0.96296296,  0.96296296]), 'split6_train_score': array([ 1.        ,  0.98518519,  0.97037037,  0.97037037,  0.97777778,\n",
      "        0.98518519,  0.97777778,  0.99259259,  0.99259259,  0.98518519,\n",
      "        0.99259259,  0.98518519,  0.99259259,  0.99259259,  0.98518519,\n",
      "        0.98518519,  0.97777778,  0.98518519,  0.98518519,  0.98518519,\n",
      "        0.98518519,  0.97777778,  0.97777778,  0.97777778,  0.97777778,\n",
      "        0.96296296,  0.97037037,  0.95555556,  0.96296296,  0.96296296]), 'split7_train_score': array([ 1.        ,  0.97777778,  0.95555556,  0.96296296,  0.96296296,\n",
      "        0.97037037,  0.97037037,  0.97777778,  0.97037037,  0.97777778,\n",
      "        0.97777778,  0.97037037,  0.97037037,  0.97777778,  0.97777778,\n",
      "        0.97037037,  0.97777778,  0.97777778,  0.97777778,  0.97777778,\n",
      "        0.97777778,  0.97037037,  0.97777778,  0.97777778,  0.97777778,\n",
      "        0.97037037,  0.97037037,  0.96296296,  0.96296296,  0.95555556]), 'split8_train_score': array([ 1.        ,  0.97777778,  0.95555556,  0.95555556,  0.96296296,\n",
      "        0.97037037,  0.97037037,  0.97777778,  0.97777778,  0.97777778,\n",
      "        0.97777778,  0.98518519,  0.97777778,  0.98518519,  0.98518519,\n",
      "        0.97777778,  0.97777778,  0.97777778,  0.97777778,  0.97777778,\n",
      "        0.97777778,  0.97037037,  0.97777778,  0.97037037,  0.97037037,\n",
      "        0.96296296,  0.97037037,  0.94814815,  0.95555556,  0.95555556]), 'split9_train_score': array([ 1.        ,  0.97777778,  0.95555556,  0.97037037,  0.97037037,\n",
      "        0.97037037,  0.97777778,  0.97777778,  0.97777778,  0.96296296,\n",
      "        0.96296296,  0.96296296,  0.97777778,  0.97037037,  0.97777778,\n",
      "        0.96296296,  0.96296296,  0.95555556,  0.96296296,  0.94074074,\n",
      "        0.94814815,  0.94814815,  0.95555556,  0.95555556,  0.94814815,\n",
      "        0.94074074,  0.93333333,  0.93333333,  0.94074074,  0.94074074]), 'mean_train_score': array([ 1.        ,  0.97851852,  0.96074074,  0.9637037 ,  0.96888889,\n",
      "        0.97259259,  0.97333333,  0.97925926,  0.97925926,  0.9762963 ,\n",
      "        0.98      ,  0.97851852,  0.98      ,  0.97925926,  0.97925926,\n",
      "        0.97777778,  0.97777778,  0.97777778,  0.97777778,  0.97407407,\n",
      "        0.97555556,  0.97111111,  0.97333333,  0.97037037,  0.96962963,\n",
      "        0.96      ,  0.96148148,  0.95481481,  0.95925926,  0.95259259]), 'std_train_score': array([ 0.        ,  0.00518519,  0.00744435,  0.00698813,  0.00725775,\n",
      "        0.00814815,  0.00592593,  0.00645763,  0.00645763,  0.00645763,\n",
      "        0.00814815,  0.0084132 ,  0.00578537,  0.00645763,  0.00296296,\n",
      "        0.00740741,  0.00573775,  0.00811441,  0.00573775,  0.01250514,\n",
      "        0.00996565,  0.01070876,  0.0075541 ,  0.00993808,  0.01120944,\n",
      "        0.01373869,  0.0143635 ,  0.01168869,  0.01007516,  0.006789  ])}\n"
     ]
    }
   ],
   "source": [
    "print(grid.cv_results_)"
   ]
  },
  {
   "cell_type": "code",
   "execution_count": 35,
   "metadata": {},
   "outputs": [
    {
     "name": "stdout",
     "output_type": "stream",
     "text": [
      "[0.95999999999999996, 0.95333333333333337, 0.96666666666666667, 0.96666666666666667, 0.96666666666666667, 0.96666666666666667, 0.96666666666666667, 0.96666666666666667, 0.97333333333333338, 0.96666666666666667, 0.96666666666666667, 0.97333333333333338, 0.97999999999999998, 0.97333333333333338, 0.97333333333333338, 0.97333333333333338, 0.97333333333333338, 0.97999999999999998, 0.97333333333333338, 0.97999999999999998, 0.96666666666666667, 0.96666666666666667, 0.97333333333333338, 0.95999999999999996, 0.96666666666666667, 0.95999999999999996, 0.96666666666666667, 0.95333333333333337, 0.95333333333333337, 0.95333333333333337]\n"
     ]
    },
    {
     "name": "stderr",
     "output_type": "stream",
     "text": [
      "C:\\Users\\Lenovo\\Anaconda3\\lib\\site-packages\\sklearn\\model_selection\\_search.py:761: DeprecationWarning: The grid_scores_ attribute was deprecated in version 0.18 in favor of the more elaborate cv_results_ attribute. The grid_scores_ attribute will not be available from 0.20\n",
      "  DeprecationWarning)\n"
     ]
    }
   ],
   "source": [
    "grid_mean_scores = [result.mean_validation_score for result in grid.grid_scores_]\n",
    "print(grid_mean_scores)"
   ]
  },
  {
   "cell_type": "code",
   "execution_count": 36,
   "metadata": {},
   "outputs": [
    {
     "data": {
      "text/plain": [
       "Text(0,0.5,'Cross Validated Accuracy Score')"
      ]
     },
     "execution_count": 36,
     "metadata": {},
     "output_type": "execute_result"
    },
    {
     "data": {
      "image/png": "[encoded data removed]",
      "text/plain": [
       "<matplotlib.figure.Figure at 0x1a256cdf4e0>"
      ]
     },
     "metadata": {},
     "output_type": "display_data"
    }
   ],
   "source": [
    "plt.plot(k_range, grid_mean_scores)\n",
    "plt.xlabel('Value of k in KNN')\n",
    "plt.ylabel('Cross Validated Accuracy Score')"
   ]
  },
  {
   "cell_type": "code",
   "execution_count": 37,
   "metadata": {},
   "outputs": [
    {
     "name": "stdout",
     "output_type": "stream",
     "text": [
      "0.98\n",
      "{'n_neighbors': 13}\n",
      "KNeighborsClassifier(algorithm='auto', leaf_size=30, metric='minkowski',\n",
      "           metric_params=None, n_jobs=1, n_neighbors=13, p=2,\n",
      "           weights='uniform')\n"
     ]
    }
   ],
   "source": [
    "print (grid.best_score_)\n",
    "print (grid.best_params_)\n",
    "print (grid.best_estimator_)"
   ]
  },
  {
   "cell_type": "markdown",
   "metadata": {},
   "source": [
    "### Using multiple parameters"
   ]
  },
  {
   "cell_type": "code",
   "execution_count": 39,
   "metadata": {},
   "outputs": [
    {
     "name": "stdout",
     "output_type": "stream",
     "text": [
      "{'n_neighbors': range(1, 31), 'weights': ['uniform', 'distance']}\n"
     ]
    },
    {
     "data": {
      "text/plain": [
       "GridSearchCV(cv=10, error_score='raise',\n",
       "       estimator=KNeighborsClassifier(algorithm='auto', leaf_size=30, metric='minkowski',\n",
       "           metric_params=None, n_jobs=1, n_neighbors=20, p=2,\n",
       "           weights='uniform'),\n",
       "       fit_params=None, iid=True, n_jobs=1,\n",
       "       param_grid={'n_neighbors': range(1, 31), 'weights': ['uniform', 'distance']},\n",
       "       pre_dispatch='2*n_jobs', refit=True, return_train_score='warn',\n",
       "       scoring='accuracy', verbose=0)"
      ]
     },
     "execution_count": 39,
     "metadata": {},
     "output_type": "execute_result"
    }
   ],
   "source": [
    "weight_options = ['uniform', 'distance']\n",
    "param_grid = dict(n_neighbors = k_range, weights = weight_options)\n",
    "print (param_grid)\n",
    "grid = GridSearchCV(knn, param_grid, cv=10, scoring = 'accuracy')\n",
    "grid.fit(x,y)"
   ]
  },
  {
   "cell_type": "code",
   "execution_count": 41,
   "metadata": {},
   "outputs": [
    {
     "name": "stderr",
     "output_type": "stream",
     "text": [
      "C:\\Users\\Lenovo\\Anaconda3\\lib\\site-packages\\sklearn\\model_selection\\_search.py:761: DeprecationWarning: The grid_scores_ attribute was deprecated in version 0.18 in favor of the more elaborate cv_results_ attribute. The grid_scores_ attribute will not be available from 0.20\n",
      "  DeprecationWarning)\n"
     ]
    },
    {
     "data": {
      "text/plain": [
       "[mean: 0.96000, std: 0.05333, params: {'n_neighbors': 1, 'weights': 'uniform'},\n",
       " mean: 0.96000, std: 0.05333, params: {'n_neighbors': 1, 'weights': 'distance'},\n",
       " mean: 0.95333, std: 0.05207, params: {'n_neighbors': 2, 'weights': 'uniform'},\n",
       " mean: 0.96000, std: 0.05333, params: {'n_neighbors': 2, 'weights': 'distance'},\n",
       " mean: 0.96667, std: 0.04472, params: {'n_neighbors': 3, 'weights': 'uniform'},\n",
       " mean: 0.96667, std: 0.04472, params: {'n_neighbors': 3, 'weights': 'distance'},\n",
       " mean: 0.96667, std: 0.04472, params: {'n_neighbors': 4, 'weights': 'uniform'},\n",
       " mean: 0.96667, std: 0.04472, params: {'n_neighbors': 4, 'weights': 'distance'},\n",
       " mean: 0.96667, std: 0.04472, params: {'n_neighbors': 5, 'weights': 'uniform'},\n",
       " mean: 0.96667, std: 0.04472, params: {'n_neighbors': 5, 'weights': 'distance'},\n",
       " mean: 0.96667, std: 0.04472, params: {'n_neighbors': 6, 'weights': 'uniform'},\n",
       " mean: 0.96667, std: 0.04472, params: {'n_neighbors': 6, 'weights': 'distance'},\n",
       " mean: 0.96667, std: 0.04472, params: {'n_neighbors': 7, 'weights': 'uniform'},\n",
       " mean: 0.96667, std: 0.04472, params: {'n_neighbors': 7, 'weights': 'distance'},\n",
       " mean: 0.96667, std: 0.04472, params: {'n_neighbors': 8, 'weights': 'uniform'},\n",
       " mean: 0.96667, std: 0.04472, params: {'n_neighbors': 8, 'weights': 'distance'},\n",
       " mean: 0.97333, std: 0.03266, params: {'n_neighbors': 9, 'weights': 'uniform'},\n",
       " mean: 0.97333, std: 0.03266, params: {'n_neighbors': 9, 'weights': 'distance'},\n",
       " mean: 0.96667, std: 0.04472, params: {'n_neighbors': 10, 'weights': 'uniform'},\n",
       " mean: 0.97333, std: 0.03266, params: {'n_neighbors': 10, 'weights': 'distance'},\n",
       " mean: 0.96667, std: 0.04472, params: {'n_neighbors': 11, 'weights': 'uniform'},\n",
       " mean: 0.97333, std: 0.03266, params: {'n_neighbors': 11, 'weights': 'distance'},\n",
       " mean: 0.97333, std: 0.03266, params: {'n_neighbors': 12, 'weights': 'uniform'},\n",
       " mean: 0.97333, std: 0.04422, params: {'n_neighbors': 12, 'weights': 'distance'},\n",
       " mean: 0.98000, std: 0.03055, params: {'n_neighbors': 13, 'weights': 'uniform'},\n",
       " mean: 0.97333, std: 0.03266, params: {'n_neighbors': 13, 'weights': 'distance'},\n",
       " mean: 0.97333, std: 0.04422, params: {'n_neighbors': 14, 'weights': 'uniform'},\n",
       " mean: 0.97333, std: 0.03266, params: {'n_neighbors': 14, 'weights': 'distance'},\n",
       " mean: 0.97333, std: 0.03266, params: {'n_neighbors': 15, 'weights': 'uniform'},\n",
       " mean: 0.98000, std: 0.03055, params: {'n_neighbors': 15, 'weights': 'distance'},\n",
       " mean: 0.97333, std: 0.03266, params: {'n_neighbors': 16, 'weights': 'uniform'},\n",
       " mean: 0.97333, std: 0.03266, params: {'n_neighbors': 16, 'weights': 'distance'},\n",
       " mean: 0.97333, std: 0.03266, params: {'n_neighbors': 17, 'weights': 'uniform'},\n",
       " mean: 0.98000, std: 0.03055, params: {'n_neighbors': 17, 'weights': 'distance'},\n",
       " mean: 0.98000, std: 0.03055, params: {'n_neighbors': 18, 'weights': 'uniform'},\n",
       " mean: 0.97333, std: 0.03266, params: {'n_neighbors': 18, 'weights': 'distance'},\n",
       " mean: 0.97333, std: 0.03266, params: {'n_neighbors': 19, 'weights': 'uniform'},\n",
       " mean: 0.98000, std: 0.03055, params: {'n_neighbors': 19, 'weights': 'distance'},\n",
       " mean: 0.98000, std: 0.03055, params: {'n_neighbors': 20, 'weights': 'uniform'},\n",
       " mean: 0.96667, std: 0.04472, params: {'n_neighbors': 20, 'weights': 'distance'},\n",
       " mean: 0.96667, std: 0.03333, params: {'n_neighbors': 21, 'weights': 'uniform'},\n",
       " mean: 0.96667, std: 0.04472, params: {'n_neighbors': 21, 'weights': 'distance'},\n",
       " mean: 0.96667, std: 0.03333, params: {'n_neighbors': 22, 'weights': 'uniform'},\n",
       " mean: 0.96667, std: 0.04472, params: {'n_neighbors': 22, 'weights': 'distance'},\n",
       " mean: 0.97333, std: 0.03266, params: {'n_neighbors': 23, 'weights': 'uniform'},\n",
       " mean: 0.97333, std: 0.03266, params: {'n_neighbors': 23, 'weights': 'distance'},\n",
       " mean: 0.96000, std: 0.04422, params: {'n_neighbors': 24, 'weights': 'uniform'},\n",
       " mean: 0.97333, std: 0.03266, params: {'n_neighbors': 24, 'weights': 'distance'},\n",
       " mean: 0.96667, std: 0.03333, params: {'n_neighbors': 25, 'weights': 'uniform'},\n",
       " mean: 0.97333, std: 0.03266, params: {'n_neighbors': 25, 'weights': 'distance'},\n",
       " mean: 0.96000, std: 0.04422, params: {'n_neighbors': 26, 'weights': 'uniform'},\n",
       " mean: 0.96667, std: 0.04472, params: {'n_neighbors': 26, 'weights': 'distance'},\n",
       " mean: 0.96667, std: 0.04472, params: {'n_neighbors': 27, 'weights': 'uniform'},\n",
       " mean: 0.98000, std: 0.03055, params: {'n_neighbors': 27, 'weights': 'distance'},\n",
       " mean: 0.95333, std: 0.04269, params: {'n_neighbors': 28, 'weights': 'uniform'},\n",
       " mean: 0.97333, std: 0.03266, params: {'n_neighbors': 28, 'weights': 'distance'},\n",
       " mean: 0.95333, std: 0.04269, params: {'n_neighbors': 29, 'weights': 'uniform'},\n",
       " mean: 0.97333, std: 0.03266, params: {'n_neighbors': 29, 'weights': 'distance'},\n",
       " mean: 0.95333, std: 0.04269, params: {'n_neighbors': 30, 'weights': 'uniform'},\n",
       " mean: 0.96667, std: 0.03333, params: {'n_neighbors': 30, 'weights': 'distance'}]"
      ]
     },
     "execution_count": 41,
     "metadata": {},
     "output_type": "execute_result"
    }
   ],
   "source": [
    "grid.grid_scores_"
   ]
  },
  {
   "cell_type": "code",
   "execution_count": 42,
   "metadata": {},
   "outputs": [
    {
     "name": "stdout",
     "output_type": "stream",
     "text": [
      "0.98\n",
      "{'n_neighbors': 13, 'weights': 'uniform'}\n"
     ]
    }
   ],
   "source": [
    "print (grid.best_score_)\n",
    "print (grid.best_params_)"
   ]
  },
  {
   "cell_type": "markdown",
   "metadata": {},
   "source": [
    "### Using best parameters to make predictions"
   ]
  },
  {
   "cell_type": "code",
   "execution_count": 47,
   "metadata": {},
   "outputs": [
    {
     "data": {
      "text/plain": [
       "array([1])"
      ]
     },
     "execution_count": 47,
     "metadata": {},
     "output_type": "execute_result"
    }
   ],
   "source": [
    "x = iris.data\n",
    "y = iris.target\n",
    "knn = KNeighborsClassifier(n_neighbors = 13, weights = 'uniform')\n",
    "knn.fit(x,y)\n",
    "knn.predict([[3,5,4,2]])"
   ]
  },
  {
   "cell_type": "code",
   "execution_count": 48,
   "metadata": {},
   "outputs": [
    {
     "data": {
      "text/plain": [
       "array([1])"
      ]
     },
     "execution_count": 48,
     "metadata": {},
     "output_type": "execute_result"
    }
   ],
   "source": [
    "grid.predict([[3,5,4,2]])"
   ]
  },
  {
   "cell_type": "markdown",
   "metadata": {},
   "source": [
    "### RandomizedSearchCV"
   ]
  },
  {
   "cell_type": "code",
   "execution_count": 49,
   "metadata": {},
   "outputs": [
    {
     "data": {
      "text/plain": [
       "[mean: 0.97333, std: 0.03266, params: {'weights': 'distance', 'n_neighbors': 16},\n",
       " mean: 0.96667, std: 0.03333, params: {'weights': 'uniform', 'n_neighbors': 22},\n",
       " mean: 0.98000, std: 0.03055, params: {'weights': 'uniform', 'n_neighbors': 18},\n",
       " mean: 0.96667, std: 0.04472, params: {'weights': 'uniform', 'n_neighbors': 27},\n",
       " mean: 0.95333, std: 0.04269, params: {'weights': 'uniform', 'n_neighbors': 29},\n",
       " mean: 0.97333, std: 0.03266, params: {'weights': 'distance', 'n_neighbors': 10},\n",
       " mean: 0.96667, std: 0.04472, params: {'weights': 'distance', 'n_neighbors': 22},\n",
       " mean: 0.97333, std: 0.04422, params: {'weights': 'uniform', 'n_neighbors': 14},\n",
       " mean: 0.97333, std: 0.04422, params: {'weights': 'distance', 'n_neighbors': 12},\n",
       " mean: 0.97333, std: 0.03266, params: {'weights': 'uniform', 'n_neighbors': 15}]"
      ]
     },
     "execution_count": 49,
     "metadata": {},
     "output_type": "execute_result"
    }
   ],
   "source": [
    "from sklearn.grid_search import RandomizedSearchCV\n",
    "param_dist = dict(n_neighbors = k_range, weights = weight_options)\n",
    "rand = RandomizedSearchCV(knn, param_dist, cv = 10, scoring = 'accuracy', n_iter = 10, random_state = 5)\n",
    "rand.fit(x,y)\n",
    "rand.grid_scores_"
   ]
  },
  {
   "cell_type": "code",
   "execution_count": 50,
   "metadata": {},
   "outputs": [
    {
     "name": "stdout",
     "output_type": "stream",
     "text": [
      "0.98\n",
      "{'weights': 'uniform', 'n_neighbors': 18}\n"
     ]
    }
   ],
   "source": [
    "print (rand.best_score_)\n",
    "print (rand.best_params_)"
   ]
  },
  {
   "cell_type": "code",
   "execution_count": 52,
   "metadata": {},
   "outputs": [
    {
     "name": "stdout",
     "output_type": "stream",
     "text": [
      "[0.98, 0.98, 0.98, 0.973, 0.973, 0.973, 0.98, 0.98, 0.973, 0.98, 0.98, 0.973, 0.98, 0.98, 0.98, 0.973, 0.973, 0.98, 0.98]\n"
     ]
    }
   ],
   "source": [
    "# running randomizedsearchcv for 20 times\n",
    "# find best value for k\n",
    "k_scores = []\n",
    "k_range = range(1,20)\n",
    "for k in k_range:\n",
    "    rand = RandomizedSearchCV(knn, param_dist, cv = 10, scoring = 'accuracy', n_iter = 10)\n",
    "    rand.fit(x,y)\n",
    "    k_scores.append(round(rand.best_score_, 3))\n",
    "print(k_scores)"
   ]
  }
 ],
 "metadata": {
  "kernelspec": {
   "display_name": "Python 3",
   "language": "python",
   "name": "python3"
  },
  "language_info": {
   "codemirror_mode": {
    "name": "ipython",
    "version": 3
   },
   "file_extension": ".py",
   "mimetype": "text/x-python",
   "name": "python",
   "nbconvert_exporter": "python",
   "pygments_lexer": "ipython3",
   "version": "3.6.3"
  }
 },
 "nbformat": 4,
 "nbformat_minor": 2
}
